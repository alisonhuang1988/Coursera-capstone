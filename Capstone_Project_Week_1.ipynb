{
  "nbformat": 4,
  "nbformat_minor": 0,
  "metadata": {
    "colab": {
      "name": "Capstone Project-Week 1",
      "provenance": [],
      "authorship_tag": "ABX9TyMw0wEr9GveG5K41hb11Iuc",
      "include_colab_link": true
    },
    "kernelspec": {
      "name": "python3",
      "display_name": "Python 3"
    }
  },
  "cells": [
    {
      "cell_type": "markdown",
      "metadata": {
        "id": "view-in-github",
        "colab_type": "text"
      },
      "source": [
        "<a href=\"https://colab.research.google.com/github/alisonhuang1988/Coursera-capstone/blob/master/Capstone_Project_Week_1.ipynb\" target=\"_parent\"><img src=\"https://colab.research.google.com/assets/colab-badge.svg\" alt=\"Open In Colab\"/></a>"
      ]
    },
    {
      "cell_type": "markdown",
      "metadata": {
        "id": "ZHqGOmaciTkl",
        "colab_type": "text"
      },
      "source": [
        "# Capstone Project(Week 1)  \n",
        "# Table of Content  \n",
        "####[Instructions](https://colab.research.google.com/drive/1XmgvTHiyz4JzbaHfWN3_tSemfruxP-HI#scrollTo=S2JUAxSXyorK&line=26&uniqifier=1)\n",
        "####[Background Information](https://colab.research.google.com/drive/1XmgvTHiyz4JzbaHfWN3_tSemfruxP-HI#scrollTo=9OaWLbXds01n&line=1&uniqifier=1)\n"
      ]
    },
    {
      "cell_type": "markdown",
      "metadata": {
        "id": "S2JUAxSXyorK",
        "colab_type": "text"
      },
      "source": [
        "## Instructions  \n",
        "Now that you have been equipped with the skills and the tools to use location data to explore a geographical location, over the course of two weeks, you will have the opportunity to be as creative as you want and come up with an idea to leverage the Foursquare location data to explore or compare neighborhoods or cities of your choice or to come up with a problem that you can use the Foursquare location data to solve. If you cannot think of an idea or a problem, here are some ideas to get you started:\n",
        "\n",
        "In Module 3, we explored New York City and the city of Toronto and segmented and clustered their neighborhoods. Both cities are very diverse and are the financial capitals of their respective countries. One interesting idea would be to compare the neighborhoods of the two cities and determine how similar or dissimilar they are. Is New York City more like Toronto or Paris or some other multicultural city? I will leave it to you to refine this idea.\n",
        "**In a city of your choice, if someone is looking to open a restaurant, where would you recommend that they open it? Similarly, if a contractor is trying to start their own business, where would you recommend that they setup their office?**  \n",
        "\n",
        "These are just a couple of many ideas and problems that can be solved using location data in addition to other datasets. No matter what you decide to do, make sure to provide sufficient justification of why you think what you want to do or solve is important and why would a client or a group of people be interested in your project.  \n",
        "###Criteria  \n",
        "This capstone project will be graded by your peers. This capstone project is worth 70% of your total grade. The project will be completed over the course of 2 weeks. Week 1 submissions will be worth 30% whereas week 2 submissions will be worth 40% of your total grade.\n",
        "\n",
        "For this week, you will required to submit the following:\n",
        "\n",
        "1. A description of the problem and a discussion of the background. (15 marks)\n",
        "2. A description of the data and how it will be used to solve the problem. (15 marks)  \n",
        "\n",
        "For the second week, the final deliverables of the project will be:\n",
        "\n",
        "1. A link to your Notebook on your Github repository, showing your code. (15 marks)\n",
        "2. A full report consisting of all of the following components (15 marks):  \n",
        "* Introduction where you discuss the business problem and who would be interested in this project.  \n",
        "* Data where you describe the data that will be used to solve the problem and the source of the data.\n",
        "* Methodology section which represents the main component of the report where you discuss and describe any exploratory data analysis that you did, any inferential statistical testing that you performed, if any, and what machine learnings were used and why.\n",
        "* Results section where you discuss the results.\n",
        "* Discussion section where you discuss any observations you noted and any recommendations you can make based on the results.\n",
        "* Conclusion section where you conclude the report.\n",
        "3. Your choice of a presentation or blogpost. (10 marks)"
      ]
    },
    {
      "cell_type": "markdown",
      "metadata": {
        "id": "9OaWLbXds01n",
        "colab_type": "text"
      },
      "source": [
        "# Background Information\n",
        "## Location\n",
        "Wake County, North Carolina, USA  \n",
        "## Business Type  \n",
        "**CAFE**\n",
        "\n",
        "> Officially, a cafe can also be referred to as a restaurant. In cafes, the main focus is on food rather than coffee, though most cafes will offer coffee pairings on their menus.\n",
        "\n",
        "## Challenges\n",
        "Based on current strange and challenge situation, COVID-19, I, as an ownership of a CAFE, have to consider cost, profit, location, method of deliver food service and so on.  \n",
        "* **Start up cost** should be controlled and lower than the average costs than before due to the downturn of economy globally.  \n",
        "* **Gaining profits** requires that the median income of surrounding area should be higher than the median income of Wake County, NC.\n",
        "* **Location** should be either at the business center, such as downtown of Raleigh, or nearby the living areas, which will provide a lot of customers, but with high pressure of competition.  \n",
        "* **Method of deliver food service** should be diversity different from traditional CAFE, such as dine-in, delivery and drive-through, in order to adapt to the aperiodic lockdown of city due to COVID-19.  \n",
        "\n",
        "## Questions\n",
        "1. The population of Wake County, NC  \n",
        "2. Wake County, NC Demographics\n",
        "3. How many venues in each area of Wake County, NC?\n",
        "4. How many categories in each area?\n",
        "5. How many competitors in each area of Wake County, NC?\n",
        "6. How many clusters I can use to categorize the districts based on the popularity of CAFE?\n",
        "7. In which areas, the median household income is high?\n",
        "8. In which areas, the population is high but fewer CAFE?  \n",
        "\n",
        "# Target Audience\n",
        "The main target audience would be investors and stakeholders who have high interests to invest the CAFE.  \n",
        "\n"
      ]
    }
  ]
}